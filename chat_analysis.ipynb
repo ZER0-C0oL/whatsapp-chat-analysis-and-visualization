{
 "cells": [
  {
   "cell_type": "code",
   "execution_count": 24,
   "metadata": {},
   "outputs": [],
   "source": [
    "chat = ''\n",
    "with open('chat.txt', mode = 'r', encoding = 'utf-8') as f:\n",
    "    chat = f.readlines()"
   ]
  },
  {
   "cell_type": "code",
   "execution_count": null,
   "metadata": {},
   "outputs": [],
   "source": [
    "sender1 = \"Dobi\"\n",
    "sender2 = \"Mrudul\"\n",
    "sender1_msgs = []\n",
    "sender2_msgs = []\n",
    "sender1_dates = dict()\n",
    "sender2_dates = dict()"
   ]
  },
  {
   "cell_type": "code",
   "execution_count": null,
   "metadata": {},
   "outputs": [],
   "source": [
    "last = sender1\n",
    "for msg in chat:\n",
    "    try:\n",
    "        d, t = msg.index(','), msg.index('-')\n",
    "        s = t + msg[t:].index(':')\n",
    "        date = msg[:d]\n",
    "        time = msg[d+2:t]\n",
    "        sender = msg[t+2:s]\n",
    "        message = msg[s+2:-1]\n",
    "        if sender == sender1:\n",
    "            sender1_msgs.append((date, message))\n",
    "            if date in sender1_dates:\n",
    "                sender1_dates[date] += 1\n",
    "            else:\n",
    "                sender1_dates[date] = 1\n",
    "        else:\n",
    "            sender2_msgs.append((date, message))\n",
    "            if date in sender2_dates:\n",
    "                sender2_dates[date] += 1\n",
    "            else:\n",
    "                sender2_dates[date] = 1\n",
    "        last = sender\n",
    "    except:\n",
    "        if last == sender1:\n",
    "            sender1_msgs[-1][-1] += msg\n",
    "        else:\n",
    "            sender2_msgs[-1][-1] += msg"
   ]
  },
  {
   "cell_type": "code",
   "execution_count": 23,
   "metadata": {},
   "outputs": [
    {
     "data": {
      "text/plain": [
       "dict_keys(['19/11/18', '21/11/18', '22/11/18'])"
      ]
     },
     "execution_count": 23,
     "metadata": {},
     "output_type": "execute_result"
    }
   ],
   "source": [
    "def sort_dates(dates):\n",
    "    dates.sort(key = lambda date: list(map(int, date.split('/')))[::-1])\n",
    "    return dates"
   ]
  },
  {
   "cell_type": "code",
   "execution_count": null,
   "metadata": {},
   "outputs": [],
   "source": [
    "# Date statistics\n",
    "\n",
    "def biggest_date_difference(dates):\n",
    "    pass\n",
    "\n",
    "def longest_streak(dates):\n",
    "    pass"
   ]
  },
  {
   "cell_type": "code",
   "execution_count": null,
   "metadata": {},
   "outputs": [],
   "source": [
    "# Message Counts"
   ]
  }
 ],
 "metadata": {
  "kernelspec": {
   "display_name": "Python 3",
   "language": "python",
   "name": "python3"
  },
  "language_info": {
   "codemirror_mode": {
    "name": "ipython",
    "version": 3
   },
   "file_extension": ".py",
   "mimetype": "text/x-python",
   "name": "python",
   "nbconvert_exporter": "python",
   "pygments_lexer": "ipython3",
   "version": "3.6.5"
  }
 },
 "nbformat": 4,
 "nbformat_minor": 2
}
