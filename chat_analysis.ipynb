{
 "cells": [
  {
   "cell_type": "code",
   "execution_count": 119,
   "metadata": {},
   "outputs": [],
   "source": [
    "chat = ''\n",
    "with open('chat1.txt', mode = 'r', encoding = 'utf-8') as f:\n",
    "    chat = f.readlines()"
   ]
  },
  {
   "cell_type": "code",
   "execution_count": 120,
   "metadata": {},
   "outputs": [],
   "source": [
    "senders = set()          # To mark whether a message traversed is from a new sender or old\n",
    "messages = dict()    # Store all messages in structured format\n",
    "dates = dict()       # Store all dates in structures format\n",
    "last = None\n",
    "\n",
    "for msg in chat[1:]:\n",
    "    if not (msg[2] == '/' and msg[5] == '/' and msg[8] == ',' and msg[11] == ':'):\n",
    "        # This means there was a newline in chat and is a part of previous message\n",
    "            messages[last][-1] += ' ' + content\n",
    "            continue\n",
    "            \n",
    "        # Extract different components of raw data\n",
    "        d, t = msg.index(','), msg.index('-')\n",
    "        s = t + msg[t:].index(':')\n",
    "        date = msg[:d]\n",
    "        tim = msg[d+2:t]\n",
    "        sender = msg[t+2:s]\n",
    "        content = msg[s+2:-1]\n",
    "        \n",
    "        # Adding data\n",
    "        if sender not in senders:\n",
    "            senders.add(sender)\n",
    "            messages[sender] = [content]\n",
    "            dates[sender] = dict()\n",
    "        else:\n",
    "            messages[sender].append(content)\n",
    "            \n",
    "        if date in dates[sender]:\n",
    "            dates[sender][date] += 1\n",
    "        else:\n",
    "            dates[sender][date] = 1\n",
    "            \n",
    "        last = sender"
   ]
  },
  {
   "cell_type": "code",
   "execution_count": 121,
   "metadata": {},
   "outputs": [
    {
     "name": "stdout",
     "output_type": "stream",
     "text": [
      "{'Noopur Di', 'ीरे मरने लगते हैं, अगर आप', 'ell switch with a cleaning fluid ', 'ेसन ', 'Papaji', 'Jijaji', 'Mrudul', 'ीरे मरने लगते हैं, जब आप', 'Namrata Di', 'दाल ', 'छोले ', 'ु', 'Mummy', 'Jiju', 'कौरव के '}\n"
     ]
    }
   ],
   "source": [
    "print(senders)"
   ]
  },
  {
   "cell_type": "code",
   "execution_count": 113,
   "metadata": {},
   "outputs": [],
   "source": [
    "def sort_dates(dates):\n",
    "    dates.sort(key = lambda date: list(map(int, date.split('/')))[::-1])\n",
    "    return dates"
   ]
  },
  {
   "cell_type": "code",
   "execution_count": 114,
   "metadata": {},
   "outputs": [],
   "source": [
    "def get_date_difference(date1, date2):\n",
    "    from datetime import date\n",
    "    d1, m1, y1 = map(int, date1.split('/'))\n",
    "    d2, m2, y2 = map(int, date2.split('/'))\n",
    "    diff = date(y2, m2, d2) - date(y1, m1, d1)\n",
    "    return abs(diff.days)"
   ]
  },
  {
   "cell_type": "code",
   "execution_count": 115,
   "metadata": {},
   "outputs": [],
   "source": [
    "# Date statistics\n",
    "\n",
    "def biggest_date_difference(dates):       # Input: list[key list of dates dictionary]\n",
    "    dates = sort_dates(dates)\n",
    "    if len(dates) == 1:\n",
    "        return 0\n",
    "    max_diff = get_date_difference(dates[0], dates[1])\n",
    "    date1 = dates[0]\n",
    "    date2 = dates[1]\n",
    "    for i in range(1, len(dates)):\n",
    "        diff = get_date_difference(dates[i-1], dates[i])\n",
    "        if diff > max_diff:\n",
    "            max_diff = diff\n",
    "            date1 = dates[i-1]\n",
    "            date2 = dates[i]\n",
    "    \n",
    "    return max_diff, date1, date2\n",
    "\n",
    "def longest_streak(dates):                # Input: list[key list of dates dictionary]\n",
    "    dates = sort_dates(dates)\n",
    "    streak = 1\n",
    "    max_streak = 1\n",
    "    st, max_st = dates[0], dates[0]\n",
    "    en, max_en = dates[0], dates[0]\n",
    "    for i in range(1,len(dates)):\n",
    "        if get_date_difference(dates[i], dates[i-1]) == 1:\n",
    "            streak += 1\n",
    "            en = dates[i]\n",
    "        else:\n",
    "            if streak > max_streak:\n",
    "                max_strek = streak\n",
    "                max_st = st\n",
    "                max_en = en\n",
    "            streak = 1\n",
    "            st = dates[i]\n",
    "    if streak > max_streak:\n",
    "        max_strek = streak\n",
    "        max_st = st\n",
    "        max_en = en\n",
    "    return max_streak, max_st, max_en\n",
    "\n",
    "def most_messages_per_day(dates):              # Input: dictionary[dates dictionary]\n",
    "    top3 = [[None, 0], [None, 0], [None, 0]]       # [0]: 3rd rank, [1]: 2nd rank [2]: 3rd rank\n",
    "    for i in dates:\n",
    "        if top3[0][1] < dates[i]:\n",
    "            top3[0][0] = i\n",
    "            top3[0][1] = dates[i]\n",
    "        top3.sort(key = lambda x: x[1])\n",
    "    return top3"
   ]
  },
  {
   "cell_type": "code",
   "execution_count": 116,
   "metadata": {},
   "outputs": [],
   "source": [
    "# Message Counts\n",
    "\n",
    "def sender_count(sender_msg):\n",
    "    return len(sender_msg)"
   ]
  },
  {
   "cell_type": "code",
   "execution_count": 117,
   "metadata": {},
   "outputs": [
    {
     "name": "stdout",
     "output_type": "stream",
     "text": [
      "Sender-wise Statistics:-\n",
      "******************** Mrudul ********************\n",
      "Biggest Date Difference: 23 -> From 19/11/19 to 12/12/19\n",
      "\n",
      "Longest Streak of messages: 1 -> From 02/05/20 to 03/05/20\n",
      "\n",
      "Top 3 most active days:-\n",
      "04/04/19 : 46 messages\n",
      "13/10/19 : 27 messages\n",
      "07/01/20 : 25 messages\n",
      "\n",
      "Total Messages: 699\n",
      "\n",
      "\n",
      "******************** Noopur Di ********************\n",
      "Biggest Date Difference: 25 -> From 05/12/18 to 30/12/18\n",
      "\n",
      "Longest Streak of messages: 1 -> From 02/05/20 to 03/05/20\n",
      "\n",
      "Top 3 most active days:-\n",
      "17/04/19 : 24 messages\n",
      "07/07/19 : 24 messages\n",
      "24/09/19 : 24 messages\n",
      "\n",
      "Total Messages: 599\n",
      "\n",
      "\n"
     ]
    }
   ],
   "source": [
    "# Creating Dashboard\n",
    "stat_sender = []\n",
    "total_msgs = 0\n",
    "print(\"Sender-wise Statistics:-\")\n",
    "for sender in senders:\n",
    "    print(\"********************\", sender, \"********************\")\n",
    "    \n",
    "    date_diff, st, en = biggest_date_difference(list(dates[sender].keys()))\n",
    "    print(\"Biggest Date Difference:\", date_diff, \"-> From\", st, \"to\", en)\n",
    "    print()\n",
    "    \n",
    "    streak, st, en = longest_streak(list(dates[sender].keys()))\n",
    "    print(\"Longest Streak of messages:\", streak, \"-> From\", st, \"to\", en)\n",
    "    print()\n",
    "    \n",
    "    top3 = most_messages_per_day(dates[sender])[::-1]\n",
    "    print(\"Top 3 most active days:-\")\n",
    "    for day, count in top3:\n",
    "        print(day, \":\", count, \"messages\")\n",
    "    print()\n",
    "    \n",
    "    count = sender_count(messages[sender])\n",
    "    print(\"Total Messages:\", count)\n",
    "    stat_sender.append([sender, count])\n",
    "    total_msgs += count\n",
    "    print()\n",
    "    print()"
   ]
  },
  {
   "cell_type": "code",
   "execution_count": 118,
   "metadata": {},
   "outputs": [
    {
     "name": "stdout",
     "output_type": "stream",
     "text": [
      "Total Messages: 1298\n",
      "Most active participants:-\n",
      "1. Mrudul : 699 messages ---> 53% of messages\n",
      "1. Noopur Di : 599 messages ---> 46% of messages\n"
     ]
    }
   ],
   "source": [
    "# Group Statistics\n",
    "print(\"Total Messages:\", total_msgs)\n",
    "stat_sender.sort(key = lambda x: -x[1])\n",
    "print(\"Most active participants:-\")\n",
    "ind = 1\n",
    "for s,c in stat_sender:\n",
    "    print(str(ind) + \".\", s,\":\", c, \"messages --->\", str(int((c/total_msgs) * 100))+\"% of messages\")"
   ]
  },
  {
   "cell_type": "code",
   "execution_count": null,
   "metadata": {},
   "outputs": [],
   "source": []
  }
 ],
 "metadata": {
  "kernelspec": {
   "display_name": "Python 3",
   "language": "python",
   "name": "python3"
  },
  "language_info": {
   "codemirror_mode": {
    "name": "ipython",
    "version": 3
   },
   "file_extension": ".py",
   "mimetype": "text/x-python",
   "name": "python",
   "nbconvert_exporter": "python",
   "pygments_lexer": "ipython3",
   "version": "3.6.5"
  }
 },
 "nbformat": 4,
 "nbformat_minor": 2
}
