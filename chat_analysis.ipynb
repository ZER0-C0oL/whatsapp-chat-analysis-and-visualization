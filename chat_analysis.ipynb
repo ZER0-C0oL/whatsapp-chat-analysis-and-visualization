{
 "cells": [
  {
   "cell_type": "code",
   "execution_count": 123,
   "metadata": {},
   "outputs": [],
   "source": [
    "chat = ''\n",
    "# Enter the path where the chat is stored\n",
    "file_name = './chat.txt'\n",
    "with open(file_name, mode = 'r', encoding = 'utf-8') as f:\n",
    "    chat = f.readlines()"
   ]
  },
  {
   "cell_type": "code",
   "execution_count": 124,
   "metadata": {},
   "outputs": [],
   "source": [
    "senders = set()      # To mark whether a message traversed is from a new sender or old\n",
    "messages = dict()    # Store all messages in structured format\n",
    "dates = dict()       # Store all dates in structures format\n",
    "last = None\n",
    "\n",
    "for msg in chat:\n",
    "    if not (len(msg) > 12 and msg[2] == '/' and msg[5] == '/' and msg[8] == ',' and (msg[11] == ':' or msg[12] == ':')):\n",
    "        # This means there was a newline in chat and is a part of previous message\n",
    "        messages[last][-1] += ' ' + content\n",
    "        continue\n",
    "            \n",
    "    # Extract different components of raw data\n",
    "    try:\n",
    "        d, t = msg.index(','), msg.index('-')\n",
    "        s = t + msg[t:].index(':')\n",
    "        date = msg[:d]\n",
    "        tim = msg[d+2:t]\n",
    "        sender = msg[t+2:s]\n",
    "        content = msg[s+2:-1]\n",
    "    except:\n",
    "        # Irrevelant stuff such as changed group's icon, left group, joined group, etc.\n",
    "        continue\n",
    "        \n",
    "    # Adding data\n",
    "    if sender not in senders:\n",
    "        senders.add(sender)\n",
    "        messages[sender] = [content]\n",
    "        dates[sender] = dict()\n",
    "    else:\n",
    "        messages[sender].append(content)\n",
    "            \n",
    "    if date in dates[sender]:\n",
    "        dates[sender][date] += 1\n",
    "    else:\n",
    "        dates[sender][date] = 1\n",
    "            \n",
    "    last = sender"
   ]
  },
  {
   "cell_type": "code",
   "execution_count": 125,
   "metadata": {},
   "outputs": [],
   "source": [
    "def sort_dates(dates):\n",
    "    dates.sort(key = lambda date: list(map(int, date.split('/')))[::-1])\n",
    "    return dates"
   ]
  },
  {
   "cell_type": "code",
   "execution_count": 126,
   "metadata": {},
   "outputs": [],
   "source": [
    "def get_date_difference(date1, date2):\n",
    "    from datetime import date\n",
    "    d1, m1, y1 = map(int, date1.split('/'))\n",
    "    d2, m2, y2 = map(int, date2.split('/'))\n",
    "    diff = date(y2, m2, d2) - date(y1, m1, d1)\n",
    "    return abs(diff.days)"
   ]
  },
  {
   "cell_type": "code",
   "execution_count": 127,
   "metadata": {},
   "outputs": [],
   "source": [
    "def convert_date(date):\n",
    "    # Convert date from dd/mm/yy format to day-mon-YY format\n",
    "    day, month, year = map(int, date.split('/'))\n",
    "    res = ''\n",
    "    res += str(day)\n",
    "    if day in [1,21,31]:\n",
    "        res += 'st '\n",
    "    elif day in [2, 22]:\n",
    "        res += 'nd '\n",
    "    elif day in [3, 23]:\n",
    "        res += 'rd '\n",
    "    else:\n",
    "        res += 'th '\n",
    "    months = ['', 'January', 'February', 'March', 'April', 'May', 'June', 'July', 'August', 'September', 'October', 'November', 'December']\n",
    "    res += months[month]\n",
    "    res += \" 20\" + str(year)    \n",
    "    return res"
   ]
  },
  {
   "cell_type": "code",
   "execution_count": 128,
   "metadata": {},
   "outputs": [],
   "source": [
    "# Date statistics\n",
    "\n",
    "def biggest_date_difference(dates):       # Input: list[key list of dates dictionary]\n",
    "    dates = sort_dates(dates)\n",
    "    if len(dates) == 1:\n",
    "        return 0\n",
    "    max_diff = get_date_difference(dates[0], dates[1])\n",
    "    date1 = dates[0]\n",
    "    date2 = dates[1]\n",
    "    for i in range(1, len(dates)):\n",
    "        diff = get_date_difference(dates[i-1], dates[i])\n",
    "        if diff > max_diff:\n",
    "            max_diff = diff\n",
    "            date1 = dates[i-1]\n",
    "            date2 = dates[i]\n",
    "    \n",
    "    return max_diff, date1, date2\n",
    "\n",
    "def longest_streak(dates):                # Input: list[key list of dates dictionary]\n",
    "    dates = sort_dates(dates)\n",
    "    streak = 1\n",
    "    max_streak = 1\n",
    "    st, max_st = dates[0], dates[0]\n",
    "    en, max_en = dates[0], dates[0]\n",
    "    for i in range(1,len(dates)):\n",
    "        if get_date_difference(dates[i], dates[i-1]) == 1:\n",
    "            streak += 1\n",
    "            en = dates[i]\n",
    "        else:\n",
    "            if streak > max_streak:\n",
    "                max_streak = streak\n",
    "                max_st = st\n",
    "                max_en = en\n",
    "            streak = 1\n",
    "            st = dates[i]\n",
    "    if streak > max_streak:\n",
    "        max_streak = streak\n",
    "        max_st = st\n",
    "        max_en = en\n",
    "    return max_streak, max_st, max_en\n",
    "\n",
    "def most_messages_per_day(dates):              # Input: dictionary[dates dictionary]\n",
    "    top3 = [[None, 0], [None, 0], [None, 0]]       # [0]: 3rd rank, [1]: 2nd rank [2]: 3rd rank\n",
    "    for i in dates:\n",
    "        if top3[0][1] < dates[i]:\n",
    "            top3[0][0] = i\n",
    "            top3[0][1] = dates[i]\n",
    "        top3.sort(key = lambda x: x[1])\n",
    "    return top3"
   ]
  },
  {
   "cell_type": "code",
   "execution_count": 129,
   "metadata": {},
   "outputs": [],
   "source": [
    "# Message Counts\n",
    "\n",
    "def sender_count(sender_msg):\n",
    "    return len(sender_msg)"
   ]
  },
  {
   "cell_type": "code",
   "execution_count": 130,
   "metadata": {},
   "outputs": [],
   "source": [
    "# Creating Dashboard\n",
    "stat_sender = dict()\n",
    "total_msgs = 0\n",
    "for sender in senders:\n",
    "    stat_sender[sender] = dict()\n",
    "    \n",
    "    date_diff, st, en = biggest_date_difference(list(dates[sender].keys()))\n",
    "    stat_sender[sender]['biggest_date_difference'] = (date_diff, convert_date(st), convert_date(en))\n",
    "    \n",
    "    streak, st, en = longest_streak(list(dates[sender].keys()))\n",
    "    stat_sender[sender]['longest_streak'] = (streak, convert_date(st), convert_date(en))\n",
    "    \n",
    "    top3 = most_messages_per_day(dates[sender])[::-1]\n",
    "    for i in range(len(top3)):\n",
    "        top3[i][0] = convert_date(top3[i][0])\n",
    "    stat_sender[sender]['most_messages'] = top3\n",
    "    \n",
    "    count = sender_count(messages[sender])\n",
    "    stat_sender[sender]['total_messages'] = count\n",
    "    total_msgs += count"
   ]
  },
  {
   "cell_type": "code",
   "execution_count": 131,
   "metadata": {},
   "outputs": [],
   "source": [
    "# Content Statistics\n",
    "for sender in senders:\n",
    "    count = 0\n",
    "    for m in messages[sender]:\n",
    "        if \"<Media omitted>\" in m:\n",
    "            count += 1\n",
    "    stat_sender[sender][\"media\"] = count"
   ]
  },
  {
   "cell_type": "code",
   "execution_count": 132,
   "metadata": {},
   "outputs": [
    {
     "name": "stdout",
     "output_type": "stream",
     "text": [
      "Total Messages: 8148\n"
     ]
    }
   ],
   "source": [
    "# Group Statistics\n",
    "print(\"Total Messages:\", total_msgs)\n",
    "\n",
    "participants = []\n",
    "for sender in senders:\n",
    "    participants.append([sender, stat_sender[sender]['total_messages']])\n",
    "participants.sort(key = lambda x: -x[1])"
   ]
  },
  {
   "cell_type": "code",
   "execution_count": 133,
   "metadata": {},
   "outputs": [
    {
     "ename": "ValueError",
     "evalue": "too many values to unpack (expected 2)",
     "output_type": "error",
     "traceback": [
      "\u001b[1;31m---------------------------------------------------------------------------\u001b[0m",
      "\u001b[1;31mValueError\u001b[0m                                Traceback (most recent call last)",
      "\u001b[1;32m<ipython-input-133-b1f86cfe383e>\u001b[0m in \u001b[0;36m<module>\u001b[1;34m()\u001b[0m\n\u001b[0;32m      4\u001b[0m \u001b[0mlabels\u001b[0m \u001b[1;33m=\u001b[0m \u001b[1;33m[\u001b[0m\u001b[1;33m]\u001b[0m\u001b[1;33m\u001b[0m\u001b[0m\n\u001b[0;32m      5\u001b[0m \u001b[0msizes\u001b[0m \u001b[1;33m=\u001b[0m \u001b[1;33m[\u001b[0m\u001b[1;33m]\u001b[0m\u001b[1;33m\u001b[0m\u001b[0m\n\u001b[1;32m----> 6\u001b[1;33m \u001b[1;32mfor\u001b[0m \u001b[0ml\u001b[0m\u001b[1;33m,\u001b[0m \u001b[0ms\u001b[0m \u001b[1;32min\u001b[0m \u001b[0mstat_sender\u001b[0m\u001b[1;33m:\u001b[0m\u001b[1;33m\u001b[0m\u001b[0m\n\u001b[0m\u001b[0;32m      7\u001b[0m     \u001b[0mlabels\u001b[0m\u001b[1;33m.\u001b[0m\u001b[0mappend\u001b[0m\u001b[1;33m(\u001b[0m\u001b[0ml\u001b[0m\u001b[1;33m)\u001b[0m\u001b[1;33m\u001b[0m\u001b[0m\n\u001b[0;32m      8\u001b[0m     \u001b[0msizes\u001b[0m\u001b[1;33m.\u001b[0m\u001b[0mappend\u001b[0m\u001b[1;33m(\u001b[0m\u001b[0ms\u001b[0m\u001b[1;33m)\u001b[0m\u001b[1;33m\u001b[0m\u001b[0m\n",
      "\u001b[1;31mValueError\u001b[0m: too many values to unpack (expected 2)"
     ]
    }
   ],
   "source": [
    "# Visualizations\n",
    "\n",
    "import matplotlib.pyplot as plt\n",
    "labels = []\n",
    "sizes = []\n",
    "for l, s in stat_sender:\n",
    "    labels.append(l)\n",
    "    sizes.append(s)\n",
    "\n",
    "fig1, ax1 = plt.subplots()\n",
    "ax1.pie(sizes, labels=labels, autopct='%1.1f%%',\n",
    "        shadow=True, startangle=90)\n",
    "ax1.axis('equal')  # Equal aspect ratio ensures that pie is drawn as a circle.\n",
    "\n",
    "plt.show()"
   ]
  },
  {
   "cell_type": "code",
   "execution_count": 138,
   "metadata": {},
   "outputs": [
    {
     "data": {
      "text/markdown": [
       "## User Statistics"
      ],
      "text/plain": [
       "<IPython.core.display.Markdown object>"
      ]
     },
     "metadata": {},
     "output_type": "display_data"
    },
    {
     "data": {
      "text/markdown": [
       "#### 1. Mrudul"
      ],
      "text/plain": [
       "<IPython.core.display.Markdown object>"
      ]
     },
     "metadata": {},
     "output_type": "display_data"
    },
    {
     "data": {
      "text/markdown": [
       "* Total Messages: 3689"
      ],
      "text/plain": [
       "<IPython.core.display.Markdown object>"
      ]
     },
     "metadata": {},
     "output_type": "display_data"
    },
    {
     "data": {
      "text/markdown": [
       "* Media Sent: 345"
      ],
      "text/plain": [
       "<IPython.core.display.Markdown object>"
      ]
     },
     "metadata": {},
     "output_type": "display_data"
    },
    {
     "data": {
      "text/markdown": [
       "* Top most active days:-"
      ],
      "text/plain": [
       "<IPython.core.display.Markdown object>"
      ]
     },
     "metadata": {},
     "output_type": "display_data"
    },
    {
     "data": {
      "text/markdown": [
       "          > 24th October 2019: 135 messages"
      ],
      "text/plain": [
       "<IPython.core.display.Markdown object>"
      ]
     },
     "metadata": {},
     "output_type": "display_data"
    },
    {
     "data": {
      "text/markdown": [
       "          > 21st April 2020: 117 messages"
      ],
      "text/plain": [
       "<IPython.core.display.Markdown object>"
      ]
     },
     "metadata": {},
     "output_type": "display_data"
    },
    {
     "data": {
      "text/markdown": [
       "          > 18th November 2019: 113 messages"
      ],
      "text/plain": [
       "<IPython.core.display.Markdown object>"
      ]
     },
     "metadata": {},
     "output_type": "display_data"
    },
    {
     "data": {
      "text/markdown": [
       "* Longest Streak: 29 days (from 3rd November 2019 to 1st December 2019)"
      ],
      "text/plain": [
       "<IPython.core.display.Markdown object>"
      ]
     },
     "metadata": {},
     "output_type": "display_data"
    },
    {
     "data": {
      "text/markdown": [
       "* Longest Span without messages: 45 days (from 18th August 2019 to 2nd October 2019)"
      ],
      "text/plain": [
       "<IPython.core.display.Markdown object>"
      ]
     },
     "metadata": {},
     "output_type": "display_data"
    },
    {
     "data": {
      "text/markdown": [
       "#### 2. Dobi"
      ],
      "text/plain": [
       "<IPython.core.display.Markdown object>"
      ]
     },
     "metadata": {},
     "output_type": "display_data"
    },
    {
     "data": {
      "text/markdown": [
       "* Total Messages: 4459"
      ],
      "text/plain": [
       "<IPython.core.display.Markdown object>"
      ]
     },
     "metadata": {},
     "output_type": "display_data"
    },
    {
     "data": {
      "text/markdown": [
       "* Media Sent: 399"
      ],
      "text/plain": [
       "<IPython.core.display.Markdown object>"
      ]
     },
     "metadata": {},
     "output_type": "display_data"
    },
    {
     "data": {
      "text/markdown": [
       "* Top most active days:-"
      ],
      "text/plain": [
       "<IPython.core.display.Markdown object>"
      ]
     },
     "metadata": {},
     "output_type": "display_data"
    },
    {
     "data": {
      "text/markdown": [
       "          > 24th October 2019: 166 messages"
      ],
      "text/plain": [
       "<IPython.core.display.Markdown object>"
      ]
     },
     "metadata": {},
     "output_type": "display_data"
    },
    {
     "data": {
      "text/markdown": [
       "          > 18th November 2019: 166 messages"
      ],
      "text/plain": [
       "<IPython.core.display.Markdown object>"
      ]
     },
     "metadata": {},
     "output_type": "display_data"
    },
    {
     "data": {
      "text/markdown": [
       "          > 21st April 2020: 162 messages"
      ],
      "text/plain": [
       "<IPython.core.display.Markdown object>"
      ]
     },
     "metadata": {},
     "output_type": "display_data"
    },
    {
     "data": {
      "text/markdown": [
       "* Longest Streak: 12 days (from 21st November 2018 to 2nd December 2018)"
      ],
      "text/plain": [
       "<IPython.core.display.Markdown object>"
      ]
     },
     "metadata": {},
     "output_type": "display_data"
    },
    {
     "data": {
      "text/markdown": [
       "* Longest Span without messages: 45 days (from 18th August 2019 to 2nd October 2019)"
      ],
      "text/plain": [
       "<IPython.core.display.Markdown object>"
      ]
     },
     "metadata": {},
     "output_type": "display_data"
    }
   ],
   "source": [
    "from IPython.display import display, Markdown as md\n",
    "\n",
    "display(md(\"## User Statistics\"))\n",
    "for ctr, sender in enumerate(senders,1):\n",
    "    display(md(\"#### {}. {}\".format(ctr, sender)))\n",
    "    display(md(\"* Total Messages: {}\".format(stat_sender[sender]['total_messages'])))\n",
    "    display(md(\"* Media Sent: {}\".format(stat_sender[sender]['media'])))\n",
    "    display(md(\"* Top most active days:-\"))\n",
    "    for day, count in stat_sender[sender]['most_messages']:\n",
    "        display(md(\"{}> {}: {} messages\".format(' '*10,day, count)))\n",
    "    c, s, e = stat_sender[sender]['longest_streak']\n",
    "    display(md(\"* Longest Streak: {} days (from {} to {})\".format(c,s,e)))\n",
    "    c, s, e = stat_sender[sender]['biggest_date_difference']\n",
    "    display(md(\"* Longest Span without messages: {} days (from {} to {})\".format(c,s,e)))"
   ]
  },
  {
   "cell_type": "code",
   "execution_count": 137,
   "metadata": {},
   "outputs": [
    {
     "data": {
      "text/markdown": [
       "## Group Statistics"
      ],
      "text/plain": [
       "<IPython.core.display.Markdown object>"
      ]
     },
     "metadata": {},
     "output_type": "display_data"
    },
    {
     "data": {
      "text/markdown": [
       "#### Most active participants"
      ],
      "text/plain": [
       "<IPython.core.display.Markdown object>"
      ]
     },
     "metadata": {},
     "output_type": "display_data"
    },
    {
     "data": {
      "text/markdown": [
       "1. Dobi: 4459 messages (54)%"
      ],
      "text/plain": [
       "<IPython.core.display.Markdown object>"
      ]
     },
     "metadata": {},
     "output_type": "display_data"
    },
    {
     "data": {
      "text/markdown": [
       "2. Mrudul: 3689 messages (45)%"
      ],
      "text/plain": [
       "<IPython.core.display.Markdown object>"
      ]
     },
     "metadata": {},
     "output_type": "display_data"
    }
   ],
   "source": [
    "if len(senders) > 2:\n",
    "    display(md(\"## Group Statistics\"))\n",
    "    \n",
    "    display(md(\"#### Most active participants\"))\n",
    "    for ind, (s, c) in enumerate(participants,1):\n",
    "        display(md(\"{}. {}: {} messages ({})%\".format(ind, s, c, int((c/total_msgs) * 100))))"
   ]
  },
  {
   "cell_type": "code",
   "execution_count": null,
   "metadata": {},
   "outputs": [],
   "source": []
  }
 ],
 "metadata": {
  "kernelspec": {
   "display_name": "Python 3",
   "language": "python",
   "name": "python3"
  },
  "language_info": {
   "codemirror_mode": {
    "name": "ipython",
    "version": 3
   },
   "file_extension": ".py",
   "mimetype": "text/x-python",
   "name": "python",
   "nbconvert_exporter": "python",
   "pygments_lexer": "ipython3",
   "version": "3.6.5"
  }
 },
 "nbformat": 4,
 "nbformat_minor": 2
}
