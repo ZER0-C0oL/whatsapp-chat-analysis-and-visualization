{
 "cells": [
  {
   "cell_type": "code",
   "execution_count": 1,
   "metadata": {},
   "outputs": [],
   "source": [
    "chat = ''\n",
    "# Enter the path where the chat is stored\n",
    "file_name = './chat1.txt'\n",
    "with open(file_name, mode = 'r', encoding = 'utf-8') as f:\n",
    "    chat = f.readlines()"
   ]
  },
  {
   "cell_type": "code",
   "execution_count": 2,
   "metadata": {},
   "outputs": [],
   "source": [
    "senders = set()      # To mark whether a message traversed is from a new sender or old\n",
    "messages = dict()    # Store all messages in structured format\n",
    "dates = dict()       # Store all dates in structures format\n",
    "last = None\n",
    "\n",
    "for msg in chat:\n",
    "    if not (len(msg) > 12 and msg[2] == '/' and msg[5] == '/' and msg[8] == ',' and (msg[11] == ':' or msg[12] == ':')):\n",
    "        # This means there was a newline in chat and is a part of previous message\n",
    "        messages[last][-1] += ' ' + content\n",
    "        continue\n",
    "            \n",
    "    # Extract different components of raw data\n",
    "    try:\n",
    "        d, t = msg.index(','), msg.index('-')\n",
    "        s = t + msg[t:].index(':')\n",
    "        date = msg[:d]\n",
    "        tim = msg[d+2:t]\n",
    "        sender = msg[t+2:s]\n",
    "        content = msg[s+2:-1]\n",
    "    except:\n",
    "        # Irrevelant stuff such as changed group's icon, left group, joined group, etc.\n",
    "        continue\n",
    "        \n",
    "    # Adding data\n",
    "    if sender not in senders:\n",
    "        senders.add(sender)\n",
    "        messages[sender] = [content]\n",
    "        dates[sender] = dict()\n",
    "    else:\n",
    "        messages[sender].append(content)\n",
    "            \n",
    "    if date in dates[sender]:\n",
    "        dates[sender][date] += 1\n",
    "    else:\n",
    "        dates[sender][date] = 1\n",
    "            \n",
    "    last = sender"
   ]
  },
  {
   "cell_type": "code",
   "execution_count": 3,
   "metadata": {},
   "outputs": [],
   "source": [
    "def sort_dates(dates):\n",
    "    dates.sort(key = lambda date: list(map(int, date.split('/')))[::-1])\n",
    "    return dates"
   ]
  },
  {
   "cell_type": "code",
   "execution_count": 4,
   "metadata": {},
   "outputs": [],
   "source": [
    "def get_date_difference(date1, date2):\n",
    "    from datetime import date\n",
    "    d1, m1, y1 = map(int, date1.split('/'))\n",
    "    d2, m2, y2 = map(int, date2.split('/'))\n",
    "    diff = date(y2, m2, d2) - date(y1, m1, d1)\n",
    "    return abs(diff.days)"
   ]
  },
  {
   "cell_type": "code",
   "execution_count": 5,
   "metadata": {},
   "outputs": [],
   "source": [
    "def convert_date(date):\n",
    "    # Convert date from dd/mm/yy format to day-mon-YY format\n",
    "    day, month, year = map(int, date.split('/'))\n",
    "    res = ''\n",
    "    res += str(day)\n",
    "    if day in [1,21,31]:\n",
    "        res += 'st '\n",
    "    elif day in [2, 22]:\n",
    "        res += 'nd '\n",
    "    elif day in [3, 23]:\n",
    "        res += 'rd '\n",
    "    else:\n",
    "        res += 'th '\n",
    "    months = ['', 'January', 'February', 'March', 'April', 'May', 'June', 'July', 'August', 'September', 'October', 'November', 'December']\n",
    "    res += months[month]\n",
    "    res += \" 20\" + str(year)    \n",
    "    return res"
   ]
  },
  {
   "cell_type": "code",
   "execution_count": 6,
   "metadata": {},
   "outputs": [],
   "source": [
    "# Date statistics\n",
    "\n",
    "def biggest_date_difference(dates):       # Input: list[key list of dates dictionary]\n",
    "    dates = sort_dates(dates)\n",
    "    if len(dates) == 1:\n",
    "        return 0\n",
    "    max_diff = get_date_difference(dates[0], dates[1])\n",
    "    date1 = dates[0]\n",
    "    date2 = dates[1]\n",
    "    for i in range(1, len(dates)):\n",
    "        diff = get_date_difference(dates[i-1], dates[i])\n",
    "        if diff > max_diff:\n",
    "            max_diff = diff\n",
    "            date1 = dates[i-1]\n",
    "            date2 = dates[i]\n",
    "    \n",
    "    return max_diff, date1, date2\n",
    "\n",
    "def longest_streak(dates):                # Input: list[key list of dates dictionary]\n",
    "    dates = sort_dates(dates)\n",
    "    streak = 1\n",
    "    max_streak = 1\n",
    "    st, max_st = dates[0], dates[0]\n",
    "    en, max_en = dates[0], dates[0]\n",
    "    for i in range(1,len(dates)):\n",
    "        if get_date_difference(dates[i], dates[i-1]) == 1:\n",
    "            streak += 1\n",
    "            en = dates[i]\n",
    "        else:\n",
    "            if streak > max_streak:\n",
    "                max_streak = streak\n",
    "                max_st = st\n",
    "                max_en = en\n",
    "            streak = 1\n",
    "            st = dates[i]\n",
    "    if streak > max_streak:\n",
    "        max_streak = streak\n",
    "        max_st = st\n",
    "        max_en = en\n",
    "    return max_streak, max_st, max_en\n",
    "\n",
    "def most_messages_per_day(dates):              # Input: dictionary[dates dictionary]\n",
    "    top3 = [[None, 0], [None, 0], [None, 0]]       # [0]: 3rd rank, [1]: 2nd rank [2]: 3rd rank\n",
    "    for i in dates:\n",
    "        if top3[0][1] < dates[i]:\n",
    "            top3[0][0] = i\n",
    "            top3[0][1] = dates[i]\n",
    "        top3.sort(key = lambda x: x[1])\n",
    "    return top3"
   ]
  },
  {
   "cell_type": "code",
   "execution_count": 7,
   "metadata": {},
   "outputs": [],
   "source": [
    "# Message Counts\n",
    "\n",
    "def sender_count(sender_msg):\n",
    "    return len(sender_msg)"
   ]
  },
  {
   "cell_type": "code",
   "execution_count": 8,
   "metadata": {},
   "outputs": [],
   "source": [
    "# Creating Dashboard\n",
    "stat_sender = dict()\n",
    "total_msgs = 0\n",
    "for sender in senders:\n",
    "    stat_sender[sender] = dict()\n",
    "    \n",
    "    date_diff, st, en = biggest_date_difference(list(dates[sender].keys()))\n",
    "    stat_sender[sender]['biggest_date_difference'] = (date_diff, convert_date(st), convert_date(en))\n",
    "    \n",
    "    streak, st, en = longest_streak(list(dates[sender].keys()))\n",
    "    stat_sender[sender]['longest_streak'] = (streak, convert_date(st), convert_date(en))\n",
    "    \n",
    "    top3 = most_messages_per_day(dates[sender])[::-1]\n",
    "    for i in range(len(top3)):\n",
    "        top3[i][0] = convert_date(top3[i][0])\n",
    "    stat_sender[sender]['most_messages'] = top3\n",
    "    \n",
    "    count = sender_count(messages[sender])\n",
    "    stat_sender[sender]['total_messages'] = count\n",
    "    total_msgs += count"
   ]
  },
  {
   "cell_type": "code",
   "execution_count": 9,
   "metadata": {},
   "outputs": [],
   "source": [
    "# Content Statistics\n",
    "for sender in senders:\n",
    "    count = 0\n",
    "    for m in messages[sender]:\n",
    "        if \"<Media omitted>\" in m:\n",
    "            count += 1\n",
    "    stat_sender[sender][\"media\"] = count"
   ]
  },
  {
   "cell_type": "code",
   "execution_count": 10,
   "metadata": {},
   "outputs": [],
   "source": [
    "# Group Statistics\n",
    "\n",
    "participants = []\n",
    "for sender in senders:\n",
    "    participants.append([sender, stat_sender[sender]['total_messages']])\n",
    "participants.sort(key = lambda x: -x[1])\n",
    "\n",
    "date_count = dict()\n",
    "for sender in senders:\n",
    "    for date in dates[sender]:\n",
    "        if date in date_count:\n",
    "            date_count[date] += dates[sender][date]\n",
    "        else:\n",
    "            date_count[date] = dates[sender][date]\n",
    "date_count = list(date_count.items())\n",
    "date_count.sort(key = lambda x: -x[1])"
   ]
  },
  {
   "cell_type": "code",
   "execution_count": 11,
   "metadata": {},
   "outputs": [
    {
     "data": {
      "text/markdown": [
       "## User Statistics"
      ],
      "text/plain": [
       "<IPython.core.display.Markdown object>"
      ]
     },
     "metadata": {},
     "output_type": "display_data"
    },
    {
     "data": {
      "text/markdown": [
       "#### 1. Jiju"
      ],
      "text/plain": [
       "<IPython.core.display.Markdown object>"
      ]
     },
     "metadata": {},
     "output_type": "display_data"
    },
    {
     "data": {
      "text/markdown": [
       "* Total Messages: 563"
      ],
      "text/plain": [
       "<IPython.core.display.Markdown object>"
      ]
     },
     "metadata": {},
     "output_type": "display_data"
    },
    {
     "data": {
      "text/markdown": [
       "* Media Sent: 388"
      ],
      "text/plain": [
       "<IPython.core.display.Markdown object>"
      ]
     },
     "metadata": {},
     "output_type": "display_data"
    },
    {
     "data": {
      "text/markdown": [
       "* Top most active days:-"
      ],
      "text/plain": [
       "<IPython.core.display.Markdown object>"
      ]
     },
     "metadata": {},
     "output_type": "display_data"
    },
    {
     "data": {
      "text/markdown": [
       "          > 3rd May 2020: 117 messages"
      ],
      "text/plain": [
       "<IPython.core.display.Markdown object>"
      ]
     },
     "metadata": {},
     "output_type": "display_data"
    },
    {
     "data": {
      "text/markdown": [
       "          > 8th March 2020: 62 messages"
      ],
      "text/plain": [
       "<IPython.core.display.Markdown object>"
      ]
     },
     "metadata": {},
     "output_type": "display_data"
    },
    {
     "data": {
      "text/markdown": [
       "          > 26th February 2020: 60 messages"
      ],
      "text/plain": [
       "<IPython.core.display.Markdown object>"
      ]
     },
     "metadata": {},
     "output_type": "display_data"
    },
    {
     "data": {
      "text/markdown": [
       "* Longest Streak: 11 days (from 15th March 2020 to 25th March 2020)"
      ],
      "text/plain": [
       "<IPython.core.display.Markdown object>"
      ]
     },
     "metadata": {},
     "output_type": "display_data"
    },
    {
     "data": {
      "text/markdown": [
       "* Longest Span without messages: 5 days (from 10th March 2020 to 15th March 2020)"
      ],
      "text/plain": [
       "<IPython.core.display.Markdown object>"
      ]
     },
     "metadata": {},
     "output_type": "display_data"
    },
    {
     "data": {
      "text/markdown": [
       "#### 2. Jijaji"
      ],
      "text/plain": [
       "<IPython.core.display.Markdown object>"
      ]
     },
     "metadata": {},
     "output_type": "display_data"
    },
    {
     "data": {
      "text/markdown": [
       "* Total Messages: 354"
      ],
      "text/plain": [
       "<IPython.core.display.Markdown object>"
      ]
     },
     "metadata": {},
     "output_type": "display_data"
    },
    {
     "data": {
      "text/markdown": [
       "* Media Sent: 167"
      ],
      "text/plain": [
       "<IPython.core.display.Markdown object>"
      ]
     },
     "metadata": {},
     "output_type": "display_data"
    },
    {
     "data": {
      "text/markdown": [
       "* Top most active days:-"
      ],
      "text/plain": [
       "<IPython.core.display.Markdown object>"
      ]
     },
     "metadata": {},
     "output_type": "display_data"
    },
    {
     "data": {
      "text/markdown": [
       "          > 27th October 2019: 14 messages"
      ],
      "text/plain": [
       "<IPython.core.display.Markdown object>"
      ]
     },
     "metadata": {},
     "output_type": "display_data"
    },
    {
     "data": {
      "text/markdown": [
       "          > 14th August 2019: 13 messages"
      ],
      "text/plain": [
       "<IPython.core.display.Markdown object>"
      ]
     },
     "metadata": {},
     "output_type": "display_data"
    },
    {
     "data": {
      "text/markdown": [
       "          > 26th January 2019: 12 messages"
      ],
      "text/plain": [
       "<IPython.core.display.Markdown object>"
      ]
     },
     "metadata": {},
     "output_type": "display_data"
    },
    {
     "data": {
      "text/markdown": [
       "* Longest Streak: 6 days (from 17th March 2020 to 22nd March 2020)"
      ],
      "text/plain": [
       "<IPython.core.display.Markdown object>"
      ]
     },
     "metadata": {},
     "output_type": "display_data"
    },
    {
     "data": {
      "text/markdown": [
       "* Longest Span without messages: 30 days (from 16th January 2020 to 15th February 2020)"
      ],
      "text/plain": [
       "<IPython.core.display.Markdown object>"
      ]
     },
     "metadata": {},
     "output_type": "display_data"
    },
    {
     "data": {
      "text/markdown": [
       "#### 3. Mummy"
      ],
      "text/plain": [
       "<IPython.core.display.Markdown object>"
      ]
     },
     "metadata": {},
     "output_type": "display_data"
    },
    {
     "data": {
      "text/markdown": [
       "* Total Messages: 78"
      ],
      "text/plain": [
       "<IPython.core.display.Markdown object>"
      ]
     },
     "metadata": {},
     "output_type": "display_data"
    },
    {
     "data": {
      "text/markdown": [
       "* Media Sent: 36"
      ],
      "text/plain": [
       "<IPython.core.display.Markdown object>"
      ]
     },
     "metadata": {},
     "output_type": "display_data"
    },
    {
     "data": {
      "text/markdown": [
       "* Top most active days:-"
      ],
      "text/plain": [
       "<IPython.core.display.Markdown object>"
      ]
     },
     "metadata": {},
     "output_type": "display_data"
    },
    {
     "data": {
      "text/markdown": [
       "          > 28th August 2019: 11 messages"
      ],
      "text/plain": [
       "<IPython.core.display.Markdown object>"
      ]
     },
     "metadata": {},
     "output_type": "display_data"
    },
    {
     "data": {
      "text/markdown": [
       "          > 1st January 2020: 6 messages"
      ],
      "text/plain": [
       "<IPython.core.display.Markdown object>"
      ]
     },
     "metadata": {},
     "output_type": "display_data"
    },
    {
     "data": {
      "text/markdown": [
       "          > 19th August 2019: 4 messages"
      ],
      "text/plain": [
       "<IPython.core.display.Markdown object>"
      ]
     },
     "metadata": {},
     "output_type": "display_data"
    },
    {
     "data": {
      "text/markdown": [
       "* Longest Streak: 3 days (from 4th February 2019 to 6th February 2019)"
      ],
      "text/plain": [
       "<IPython.core.display.Markdown object>"
      ]
     },
     "metadata": {},
     "output_type": "display_data"
    },
    {
     "data": {
      "text/markdown": [
       "* Longest Span without messages: 49 days (from 6th January 2020 to 24th February 2020)"
      ],
      "text/plain": [
       "<IPython.core.display.Markdown object>"
      ]
     },
     "metadata": {},
     "output_type": "display_data"
    },
    {
     "data": {
      "text/markdown": [
       "#### 4. Papaji"
      ],
      "text/plain": [
       "<IPython.core.display.Markdown object>"
      ]
     },
     "metadata": {},
     "output_type": "display_data"
    },
    {
     "data": {
      "text/markdown": [
       "* Total Messages: 1078"
      ],
      "text/plain": [
       "<IPython.core.display.Markdown object>"
      ]
     },
     "metadata": {},
     "output_type": "display_data"
    },
    {
     "data": {
      "text/markdown": [
       "* Media Sent: 498"
      ],
      "text/plain": [
       "<IPython.core.display.Markdown object>"
      ]
     },
     "metadata": {},
     "output_type": "display_data"
    },
    {
     "data": {
      "text/markdown": [
       "* Top most active days:-"
      ],
      "text/plain": [
       "<IPython.core.display.Markdown object>"
      ]
     },
     "metadata": {},
     "output_type": "display_data"
    },
    {
     "data": {
      "text/markdown": [
       "          > 30th January 2020: 76 messages"
      ],
      "text/plain": [
       "<IPython.core.display.Markdown object>"
      ]
     },
     "metadata": {},
     "output_type": "display_data"
    },
    {
     "data": {
      "text/markdown": [
       "          > 26th January 2019: 48 messages"
      ],
      "text/plain": [
       "<IPython.core.display.Markdown object>"
      ]
     },
     "metadata": {},
     "output_type": "display_data"
    },
    {
     "data": {
      "text/markdown": [
       "          > 25th March 2020: 30 messages"
      ],
      "text/plain": [
       "<IPython.core.display.Markdown object>"
      ]
     },
     "metadata": {},
     "output_type": "display_data"
    },
    {
     "data": {
      "text/markdown": [
       "* Longest Streak: 20 days (from 13th March 2020 to 1st April 2020)"
      ],
      "text/plain": [
       "<IPython.core.display.Markdown object>"
      ]
     },
     "metadata": {},
     "output_type": "display_data"
    },
    {
     "data": {
      "text/markdown": [
       "* Longest Span without messages: 6 days (from 14th March 2019 to 20th March 2019)"
      ],
      "text/plain": [
       "<IPython.core.display.Markdown object>"
      ]
     },
     "metadata": {},
     "output_type": "display_data"
    },
    {
     "data": {
      "text/markdown": [
       "#### 5. Noopur Di"
      ],
      "text/plain": [
       "<IPython.core.display.Markdown object>"
      ]
     },
     "metadata": {},
     "output_type": "display_data"
    },
    {
     "data": {
      "text/markdown": [
       "* Total Messages: 916"
      ],
      "text/plain": [
       "<IPython.core.display.Markdown object>"
      ]
     },
     "metadata": {},
     "output_type": "display_data"
    },
    {
     "data": {
      "text/markdown": [
       "* Media Sent: 193"
      ],
      "text/plain": [
       "<IPython.core.display.Markdown object>"
      ]
     },
     "metadata": {},
     "output_type": "display_data"
    },
    {
     "data": {
      "text/markdown": [
       "* Top most active days:-"
      ],
      "text/plain": [
       "<IPython.core.display.Markdown object>"
      ]
     },
     "metadata": {},
     "output_type": "display_data"
    },
    {
     "data": {
      "text/markdown": [
       "          > 7th April 2020: 23 messages"
      ],
      "text/plain": [
       "<IPython.core.display.Markdown object>"
      ]
     },
     "metadata": {},
     "output_type": "display_data"
    },
    {
     "data": {
      "text/markdown": [
       "          > 27th November 2018: 22 messages"
      ],
      "text/plain": [
       "<IPython.core.display.Markdown object>"
      ]
     },
     "metadata": {},
     "output_type": "display_data"
    },
    {
     "data": {
      "text/markdown": [
       "          > 31st December 2019: 19 messages"
      ],
      "text/plain": [
       "<IPython.core.display.Markdown object>"
      ]
     },
     "metadata": {},
     "output_type": "display_data"
    },
    {
     "data": {
      "text/markdown": [
       "* Longest Streak: 16 days (from 3rd April 2020 to 18th April 2020)"
      ],
      "text/plain": [
       "<IPython.core.display.Markdown object>"
      ]
     },
     "metadata": {},
     "output_type": "display_data"
    },
    {
     "data": {
      "text/markdown": [
       "* Longest Span without messages: 11 days (from 9th August 2019 to 20th August 2019)"
      ],
      "text/plain": [
       "<IPython.core.display.Markdown object>"
      ]
     },
     "metadata": {},
     "output_type": "display_data"
    },
    {
     "data": {
      "text/markdown": [
       "#### 6. Mrudul"
      ],
      "text/plain": [
       "<IPython.core.display.Markdown object>"
      ]
     },
     "metadata": {},
     "output_type": "display_data"
    },
    {
     "data": {
      "text/markdown": [
       "* Total Messages: 827"
      ],
      "text/plain": [
       "<IPython.core.display.Markdown object>"
      ]
     },
     "metadata": {},
     "output_type": "display_data"
    },
    {
     "data": {
      "text/markdown": [
       "* Media Sent: 178"
      ],
      "text/plain": [
       "<IPython.core.display.Markdown object>"
      ]
     },
     "metadata": {},
     "output_type": "display_data"
    },
    {
     "data": {
      "text/markdown": [
       "* Top most active days:-"
      ],
      "text/plain": [
       "<IPython.core.display.Markdown object>"
      ]
     },
     "metadata": {},
     "output_type": "display_data"
    },
    {
     "data": {
      "text/markdown": [
       "          > 5th July 2019: 33 messages"
      ],
      "text/plain": [
       "<IPython.core.display.Markdown object>"
      ]
     },
     "metadata": {},
     "output_type": "display_data"
    },
    {
     "data": {
      "text/markdown": [
       "          > 24th March 2020: 22 messages"
      ],
      "text/plain": [
       "<IPython.core.display.Markdown object>"
      ]
     },
     "metadata": {},
     "output_type": "display_data"
    },
    {
     "data": {
      "text/markdown": [
       "          > 23rd November 2018: 17 messages"
      ],
      "text/plain": [
       "<IPython.core.display.Markdown object>"
      ]
     },
     "metadata": {},
     "output_type": "display_data"
    },
    {
     "data": {
      "text/markdown": [
       "* Longest Streak: 9 days (from 8th July 2019 to 16th July 2019)"
      ],
      "text/plain": [
       "<IPython.core.display.Markdown object>"
      ]
     },
     "metadata": {},
     "output_type": "display_data"
    },
    {
     "data": {
      "text/markdown": [
       "* Longest Span without messages: 12 days (from 9th March 2019 to 21st March 2019)"
      ],
      "text/plain": [
       "<IPython.core.display.Markdown object>"
      ]
     },
     "metadata": {},
     "output_type": "display_data"
    },
    {
     "data": {
      "text/markdown": [
       "#### 7. Namrata Di"
      ],
      "text/plain": [
       "<IPython.core.display.Markdown object>"
      ]
     },
     "metadata": {},
     "output_type": "display_data"
    },
    {
     "data": {
      "text/markdown": [
       "* Total Messages: 1232"
      ],
      "text/plain": [
       "<IPython.core.display.Markdown object>"
      ]
     },
     "metadata": {},
     "output_type": "display_data"
    },
    {
     "data": {
      "text/markdown": [
       "* Media Sent: 357"
      ],
      "text/plain": [
       "<IPython.core.display.Markdown object>"
      ]
     },
     "metadata": {},
     "output_type": "display_data"
    },
    {
     "data": {
      "text/markdown": [
       "* Top most active days:-"
      ],
      "text/plain": [
       "<IPython.core.display.Markdown object>"
      ]
     },
     "metadata": {},
     "output_type": "display_data"
    },
    {
     "data": {
      "text/markdown": [
       "          > 23rd February 2020: 59 messages"
      ],
      "text/plain": [
       "<IPython.core.display.Markdown object>"
      ]
     },
     "metadata": {},
     "output_type": "display_data"
    },
    {
     "data": {
      "text/markdown": [
       "          > 9th July 2019: 29 messages"
      ],
      "text/plain": [
       "<IPython.core.display.Markdown object>"
      ]
     },
     "metadata": {},
     "output_type": "display_data"
    },
    {
     "data": {
      "text/markdown": [
       "          > 17th August 2019: 19 messages"
      ],
      "text/plain": [
       "<IPython.core.display.Markdown object>"
      ]
     },
     "metadata": {},
     "output_type": "display_data"
    },
    {
     "data": {
      "text/markdown": [
       "* Longest Streak: 14 days (from 2nd October 2019 to 15th October 2019)"
      ],
      "text/plain": [
       "<IPython.core.display.Markdown object>"
      ]
     },
     "metadata": {},
     "output_type": "display_data"
    },
    {
     "data": {
      "text/markdown": [
       "* Longest Span without messages: 8 days (from 8th April 2019 to 16th April 2019)"
      ],
      "text/plain": [
       "<IPython.core.display.Markdown object>"
      ]
     },
     "metadata": {},
     "output_type": "display_data"
    }
   ],
   "source": [
    "from IPython.display import display, Markdown as md\n",
    "\n",
    "display(md(\"## User Statistics\"))\n",
    "for ctr, sender in enumerate(senders,1):\n",
    "    display(md(\"#### {}. {}\".format(ctr, sender)))\n",
    "    display(md(\"* Total Messages: {}\".format(stat_sender[sender]['total_messages'])))\n",
    "    display(md(\"* Media Sent: {}\".format(stat_sender[sender]['media'])))\n",
    "    display(md(\"* Top most active days:-\"))\n",
    "    for day, count in stat_sender[sender]['most_messages']:\n",
    "        display(md(\"{}> {}: {} messages\".format(' '*10,day, count)))\n",
    "    c, s, e = stat_sender[sender]['longest_streak']\n",
    "    display(md(\"* Longest Streak: {} days (from {} to {})\".format(c,s,e)))\n",
    "    c, s, e = stat_sender[sender]['biggest_date_difference']\n",
    "    display(md(\"* Longest Span without messages: {} days (from {} to {})\".format(c,s,e)))"
   ]
  },
  {
   "cell_type": "code",
   "execution_count": 13,
   "metadata": {},
   "outputs": [
    {
     "data": {
      "text/markdown": [
       "## Overall Statistics"
      ],
      "text/plain": [
       "<IPython.core.display.Markdown object>"
      ]
     },
     "metadata": {},
     "output_type": "display_data"
    },
    {
     "data": {
      "text/markdown": [
       "#### Most active participants"
      ],
      "text/plain": [
       "<IPython.core.display.Markdown object>"
      ]
     },
     "metadata": {},
     "output_type": "display_data"
    },
    {
     "data": {
      "text/markdown": [
       "1. Namrata Di: 1232 messages (24%)"
      ],
      "text/plain": [
       "<IPython.core.display.Markdown object>"
      ]
     },
     "metadata": {},
     "output_type": "display_data"
    },
    {
     "data": {
      "text/markdown": [
       "2. Papaji: 1078 messages (21%)"
      ],
      "text/plain": [
       "<IPython.core.display.Markdown object>"
      ]
     },
     "metadata": {},
     "output_type": "display_data"
    },
    {
     "data": {
      "text/markdown": [
       "3. Noopur Di: 916 messages (18%)"
      ],
      "text/plain": [
       "<IPython.core.display.Markdown object>"
      ]
     },
     "metadata": {},
     "output_type": "display_data"
    },
    {
     "data": {
      "text/markdown": [
       "4. Mrudul: 827 messages (16%)"
      ],
      "text/plain": [
       "<IPython.core.display.Markdown object>"
      ]
     },
     "metadata": {},
     "output_type": "display_data"
    },
    {
     "data": {
      "text/markdown": [
       "5. Jiju: 563 messages (11%)"
      ],
      "text/plain": [
       "<IPython.core.display.Markdown object>"
      ]
     },
     "metadata": {},
     "output_type": "display_data"
    },
    {
     "data": {
      "text/markdown": [
       "6. Jijaji: 354 messages (7%)"
      ],
      "text/plain": [
       "<IPython.core.display.Markdown object>"
      ]
     },
     "metadata": {},
     "output_type": "display_data"
    },
    {
     "data": {
      "text/markdown": [
       "7. Mummy: 78 messages (1%)"
      ],
      "text/plain": [
       "<IPython.core.display.Markdown object>"
      ]
     },
     "metadata": {},
     "output_type": "display_data"
    },
    {
     "name": "stdout",
     "output_type": "stream",
     "text": [
      "\n",
      "\n",
      "\n"
     ]
    },
    {
     "data": {
      "text/markdown": [
       "#### Most active days"
      ],
      "text/plain": [
       "<IPython.core.display.Markdown object>"
      ]
     },
     "metadata": {},
     "output_type": "display_data"
    },
    {
     "data": {
      "text/markdown": [
       "> 3rd May 2020: 121 messages"
      ],
      "text/plain": [
       "<IPython.core.display.Markdown object>"
      ]
     },
     "metadata": {},
     "output_type": "display_data"
    },
    {
     "data": {
      "text/markdown": [
       "> 23rd February 2020: 119 messages"
      ],
      "text/plain": [
       "<IPython.core.display.Markdown object>"
      ]
     },
     "metadata": {},
     "output_type": "display_data"
    },
    {
     "data": {
      "text/markdown": [
       "> 30th January 2020: 76 messages"
      ],
      "text/plain": [
       "<IPython.core.display.Markdown object>"
      ]
     },
     "metadata": {},
     "output_type": "display_data"
    },
    {
     "data": {
      "text/markdown": [
       "> 25th March 2020: 75 messages"
      ],
      "text/plain": [
       "<IPython.core.display.Markdown object>"
      ]
     },
     "metadata": {},
     "output_type": "display_data"
    },
    {
     "data": {
      "text/markdown": [
       "> 8th March 2020: 74 messages"
      ],
      "text/plain": [
       "<IPython.core.display.Markdown object>"
      ]
     },
     "metadata": {},
     "output_type": "display_data"
    }
   ],
   "source": [
    "display(md(\"## Overall Statistics\"))\n",
    "    \n",
    "display(md(\"#### Most active participants\"))\n",
    "ctr = 1\n",
    "for ind, (s, c) in enumerate(participants[:min(10,len(participants))], 1):\n",
    "    display(md(\"{}. {}: {} messages ({}%)\".format(ctr, s, c, int((c/total_msgs) * 100))))\n",
    "    ctr += 1\n",
    "    \n",
    "print('\\n'*2)\n",
    "display(md(\"#### Most active days\"))\n",
    "for day, count in date_count[:min(5, len(date_count))]:\n",
    "    display(md(\"> {}: {} messages\".format(convert_date(day), count)))"
   ]
  },
  {
   "cell_type": "code",
   "execution_count": 15,
   "metadata": {},
   "outputs": [
    {
     "data": {
      "image/png": "[encoded data removed]",
      "text/plain": [
       "<Figure size 432x288 with 1 Axes>"
      ]
     },
     "metadata": {},
     "output_type": "display_data"
    }
   ],
   "source": [
    "# Visualizations\n",
    "\n",
    "import matplotlib.pyplot as plt\n",
    "labels = []\n",
    "sizes = []\n",
    "for l, s in participants:\n",
    "    labels.append(l)\n",
    "    sizes.append(s)\n",
    "explode = [0.0] * len(labels)\n",
    "explode[sizes.index(max(sizes))] = 0.1\n",
    "fig1, ax1 = plt.subplots()\n",
    "ax1.pie(sizes, explode = explode, labels=labels, autopct='%1.1f%%',\n",
    "        shadow=True, startangle=90)\n",
    "ax1.axis('equal')  # Equal aspect ratio ensures that pie is drawn as a circle.\n",
    "\n",
    "plt.show()"
   ]
  },
  {
   "cell_type": "code",
   "execution_count": null,
   "metadata": {},
   "outputs": [],
   "source": []
  }
 ],
 "metadata": {
  "kernelspec": {
   "display_name": "Python 3",
   "language": "python",
   "name": "python3"
  },
  "language_info": {
   "codemirror_mode": {
    "name": "ipython",
    "version": 3
   },
   "file_extension": ".py",
   "mimetype": "text/x-python",
   "name": "python",
   "nbconvert_exporter": "python",
   "pygments_lexer": "ipython3",
   "version": "3.6.5"
  }
 },
 "nbformat": 4,
 "nbformat_minor": 2
}
