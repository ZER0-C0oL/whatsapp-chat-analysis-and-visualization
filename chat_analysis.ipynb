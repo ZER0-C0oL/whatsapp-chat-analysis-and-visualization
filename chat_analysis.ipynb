{
 "cells": [
  {
   "cell_type": "code",
   "execution_count": 24,
   "metadata": {},
   "outputs": [],
   "source": [
    "chat = ''\n",
    "with open('chat.txt', mode = 'r', encoding = 'utf-8') as f:\n",
    "    chat = f.readlines()"
   ]
  },
  {
   "cell_type": "code",
   "execution_count": null,
   "metadata": {},
   "outputs": [],
   "source": [
    "# Generalize to Group Chats\n",
    "# Complete Date Statistics\n",
    "# Visualize Data"
   ]
  },
  {
   "cell_type": "code",
   "execution_count": null,
   "metadata": {},
   "outputs": [],
   "source": [
    "sender1 = \"Dobi\"\n",
    "sender2 = \"Mrudul\"\n",
    "sender1_msgs = []\n",
    "sender2_msgs = []\n",
    "sender1_dates = dict()\n",
    "sender2_dates = dict()"
   ]
  },
  {
   "cell_type": "code",
   "execution_count": null,
   "metadata": {},
   "outputs": [],
   "source": [
    "senders = []\n",
    "vis = set()          # To mark whether a message traversed is from a new sender or old\n",
    "messages = dict()    # Store all messages in structured format\n",
    "dates = dict()       # Store all dates in structures format"
   ]
  },
  {
   "cell_type": "code",
   "execution_count": null,
   "metadata": {},
   "outputs": [],
   "source": [
    "last = None\n",
    "for msg in chat:\n",
    "    try:\n",
    "        # Extract different components of raw data\n",
    "        d, t = msg.index(','), msg.index('-')\n",
    "        s = t + msg[t:].index(':')\n",
    "        date = msg[:d]\n",
    "        time = msg[d+2:t]\n",
    "        sender = msg[t+2:s]\n",
    "        message = msg[s+2:-1]\n",
    "        \n",
    "        sender = \n",
    "        \n",
    "        if sender == sender1:\n",
    "            sender1_msgs.append((date, message))\n",
    "            if date in sender1_dates:\n",
    "                sender1_dates[date] += 1\n",
    "            else:\n",
    "                sender1_dates[date] = 1\n",
    "        else:\n",
    "            sender2_msgs.append((date, message))\n",
    "            if date in sender2_dates:\n",
    "                sender2_dates[date] += 1\n",
    "            else:\n",
    "                sender2_dates[date] = 1\n",
    "        last = sender\n",
    "    except:     # This means there was a newline in chat and is a part of previous message\n",
    "        if last == sender1:\n",
    "            sender1_msgs[-1][-1] += msg\n",
    "        else:\n",
    "            sender2_msgs[-1][-1] += msg"
   ]
  },
  {
   "cell_type": "code",
   "execution_count": 23,
   "metadata": {},
   "outputs": [
    {
     "data": {
      "text/plain": [
       "dict_keys(['19/11/18', '21/11/18', '22/11/18'])"
      ]
     },
     "execution_count": 23,
     "metadata": {},
     "output_type": "execute_result"
    }
   ],
   "source": [
    "def sort_dates(dates):\n",
    "    dates.sort(key = lambda date: list(map(int, date.split('/')))[::-1])\n",
    "    return dates"
   ]
  },
  {
   "cell_type": "code",
   "execution_count": null,
   "metadata": {},
   "outputs": [],
   "source": [
    "def get_date_difference(date1, date2):\n",
    "    from datetime import date\n",
    "    d1, m1, y1 = map(int, date1.split('/'))\n",
    "    d2, m2, y2 = map(int, date2.split('/'))\n",
    "    diff = date(y2, m2, d2) - date(y1, m1, d1)0\n",
    "    return abs(diff.days)"
   ]
  },
  {
   "cell_type": "code",
   "execution_count": null,
   "metadata": {},
   "outputs": [],
   "source": [
    "# Date statistics\n",
    "\n",
    "def biggest_date_difference(dates):\n",
    "    dates = sort_dates(dates)\n",
    "    if len(dates) == 1:\n",
    "        return 0\n",
    "    max_diff = get_date_difference(dates[0], dates[1])\n",
    "    \n",
    "    for i in range(1, len(dates)):\n",
    "        max_diff = max(max_diff, get_date_difference(date[i-1], date[i]))\n",
    "    \n",
    "    return max_diff\n",
    "\n",
    "def longest_streak(dates):\n",
    "    pass\n",
    "\n",
    "def messages_per_day(dates):\n",
    "    pass"
   ]
  },
  {
   "cell_type": "code",
   "execution_count": null,
   "metadata": {},
   "outputs": [],
   "source": [
    "# Message Counts\n",
    "\n",
    "def sender_count(sender_msg):\n",
    "    return len(sender_msg)"
   ]
  }
 ],
 "metadata": {
  "kernelspec": {
   "display_name": "Python 3",
   "language": "python",
   "name": "python3"
  },
  "language_info": {
   "codemirror_mode": {
    "name": "ipython",
    "version": 3
   },
   "file_extension": ".py",
   "mimetype": "text/x-python",
   "name": "python",
   "nbconvert_exporter": "python",
   "pygments_lexer": "ipython3",
   "version": "3.6.5"
  }
 },
 "nbformat": 4,
 "nbformat_minor": 2
}
