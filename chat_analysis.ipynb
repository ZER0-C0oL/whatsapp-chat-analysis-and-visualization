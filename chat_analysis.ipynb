{
 "cells": [
  {
   "cell_type": "code",
   "execution_count": 4,
   "metadata": {},
   "outputs": [],
   "source": [
    "chat = ''\n",
    "with open('chat.txt', mode = 'r', encoding = 'utf-8') as f:\n",
    "    chat = f.readlines()"
   ]
  },
  {
   "cell_type": "code",
   "execution_count": null,
   "metadata": {},
   "outputs": [],
   "source": [
    "dobi_msgs = []\n",
    "mrudul_msgs = []"
   ]
  },
  {
   "cell_type": "code",
   "execution_count": 15,
   "metadata": {},
   "outputs": [
    {
     "name": "stdout",
     "output_type": "stream",
     "text": [
      "19/11/18 1:36 am  Dobi <Media omitted>\n",
      "19/11/18 10:26 am  Dobi Ssly Sherry\n",
      "19/11/18 10:26 am  Dobi What's wrong??\n",
      "19/11/18 10:26 am  Dobi We need to talk\n",
      "19/11/18 10:26 am  Dobi This statement though 😅\n",
      "19/11/18 12:17 pm  Mrudul Am I in trouble?\n",
      "19/11/18 7:00 pm  Dobi <Media omitted>\n",
      "19/11/18 7:00 pm  Dobi Don't waste any time on it... Agar kuch easily hojaye toh tell me else main word mein bna lungi\n",
      "19/11/18 7:08 pm  Mrudul https://pdf.wondershare.com/how-to/change-pdf-orientation-to-portrait.html\n",
      "19/11/18 7:36 pm  Mrudul https://acrobatusers.com/tutorials/how-to-resize-pages-in-a-pdf-file\n"
     ]
    }
   ],
   "source": [
    "for msg in chat[:10]:\n",
    "    d, t = msg.index(','), msg.index('-')\n",
    "    s = t + msg[t:].index(':')\n",
    "    date = msg[:d]\n",
    "    time = msg[d+2:t]\n",
    "    sender = msg[t+2:s]\n",
    "    message = msg[s+2:-1]\n",
    "    if sender == \"Dobi\":\n",
    "        dobi_msgs.append((date, message))\n",
    "    else:\n",
    "        mrudul_msgs.append((date, message))"
   ]
  },
  {
   "cell_type": "code",
   "execution_count": null,
   "metadata": {},
   "outputs": [],
   "source": []
  }
 ],
 "metadata": {
  "kernelspec": {
   "display_name": "Python 3",
   "language": "python",
   "name": "python3"
  },
  "language_info": {
   "codemirror_mode": {
    "name": "ipython",
    "version": 3
   },
   "file_extension": ".py",
   "mimetype": "text/x-python",
   "name": "python",
   "nbconvert_exporter": "python",
   "pygments_lexer": "ipython3",
   "version": "3.6.5"
  }
 },
 "nbformat": 4,
 "nbformat_minor": 2
}
