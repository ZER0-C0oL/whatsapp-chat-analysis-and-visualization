{
 "cells": [
  {
   "cell_type": "code",
   "execution_count": 24,
   "metadata": {},
   "outputs": [],
   "source": [
    "chat = ''\n",
    "with open('chat.txt', mode = 'r', encoding = 'utf-8') as f:\n",
    "    chat = f.readlines()"
   ]
  },
  {
   "cell_type": "code",
   "execution_count": null,
   "metadata": {},
   "outputs": [],
   "source": [
    "dobi_msgs = []\n",
    "mrudul_msgs = []\n",
    "dobi_dates = dict()\n",
    "mrudul_dates = dict()"
   ]
  },
  {
   "cell_type": "code",
   "execution_count": null,
   "metadata": {},
   "outputs": [],
   "source": [
    "last = \"Dobi\"\n",
    "for msg in chat:\n",
    "    try:\n",
    "        d, t = msg.index(','), msg.index('-')\n",
    "        s = t + msg[t:].index(':')\n",
    "        date = msg[:d]\n",
    "        time = msg[d+2:t]\n",
    "        sender = msg[t+2:s]\n",
    "        message = msg[s+2:-1]\n",
    "        if sender == \"Dobi\":\n",
    "            dobi_msgs.append((date, message))\n",
    "            if date in dobi_dates:\n",
    "                dobi_dates[date] += 1\n",
    "            else:\n",
    "                dobi_dates[date] = 1\n",
    "        else:\n",
    "            mrudul_msgs.append((date, message))\n",
    "            if date in mrudul_dates:\n",
    "                mrudul_dates[date] += 1\n",
    "            else:\n",
    "                mrudul_dates[date] = 1\n",
    "        last = sender\n",
    "    except:\n",
    "        if last == \"Dobi\":\n",
    "            dobi_msgs[-1][-1] += msg\n",
    "        else:\n",
    "            mrudul_msgs[-1][-1] += msg"
   ]
  },
  {
   "cell_type": "code",
   "execution_count": 23,
   "metadata": {},
   "outputs": [
    {
     "data": {
      "text/plain": [
       "dict_keys(['19/11/18', '21/11/18', '22/11/18'])"
      ]
     },
     "execution_count": 23,
     "metadata": {},
     "output_type": "execute_result"
    }
   ],
   "source": [
    "def sort_dates(dates):\n",
    "    dates.sort(key = lambda date: list(map(int, date.split('/')))[::-1])\n",
    "    return dates"
   ]
  },
  {
   "cell_type": "code",
   "execution_count": null,
   "metadata": {},
   "outputs": [],
   "source": []
  }
 ],
 "metadata": {
  "kernelspec": {
   "display_name": "Python 3",
   "language": "python",
   "name": "python3"
  },
  "language_info": {
   "codemirror_mode": {
    "name": "ipython",
    "version": 3
   },
   "file_extension": ".py",
   "mimetype": "text/x-python",
   "name": "python",
   "nbconvert_exporter": "python",
   "pygments_lexer": "ipython3",
   "version": "3.6.5"
  }
 },
 "nbformat": 4,
 "nbformat_minor": 2
}
